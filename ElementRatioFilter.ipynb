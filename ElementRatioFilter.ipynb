{
 "cells": [
  {
   "cell_type": "code",
   "execution_count": 1,
   "metadata": {},
   "outputs": [],
   "source": [
    "import numpy as np\n",
    "import pandas as pd\n",
    "import pymatgen as mg\n",
    "from pymatgen import Composition"
   ]
  },
  {
   "cell_type": "markdown",
   "metadata": {},
   "source": [
    "Writes spreadsheet containing list of compounds with chosen element"
   ]
  },
  {
   "cell_type": "code",
   "execution_count": 10,
   "metadata": {},
   "outputs": [],
   "source": [
    "df = pd.read_excel('PCD_pred_0508.xlsx')"
   ]
  },
  {
   "cell_type": "code",
   "execution_count": 11,
   "metadata": {},
   "outputs": [],
   "source": [
    "chosen_element = 'B'\n",
    "\n",
    "comps = []\n",
    "for comp in df['composition']:\n",
    "    elem_flag = 0\n",
    "    for elem in mg.Composition(comp):\n",
    "        if str(elem) == chosen_element:\n",
    "            elem_flag = 1\n",
    "    if elem_flag == 1:\n",
    "        comps.append(comp)"
   ]
  },
  {
   "cell_type": "code",
   "execution_count": 12,
   "metadata": {
    "scrolled": true
   },
   "outputs": [],
   "source": [
    "df2=pd.DataFrame(comps,columns=['composition'])\n",
    "df.set_index('composition',inplace=True)"
   ]
  },
  {
   "cell_type": "code",
   "execution_count": 13,
   "metadata": {
    "scrolled": true
   },
   "outputs": [],
   "source": [
    "df2 = df[df['5N'].index.isin(df2['composition'])]\n",
    "df2.to_excel('PCD_pred_{0}only.xlsx'.format(chosen_element))\n",
    "df2.head()"
   ]
  },
  {
   "cell_type": "markdown",
   "metadata": {},
   "source": [
    "Writes spreadsheet for metal element:chosen element ratio\n",
    "   "
   ]
  },
  {
   "cell_type": "code",
   "execution_count": 35,
   "metadata": {},
   "outputs": [],
   "source": [
    "def ratio_calc():\n",
    "    source = input('Source dataframe (name of excel file generated above): ')\n",
    "    df2 = pd.read_excel(source).set_index('composition')\n",
    "    chosen_element = input('Input element: ')\n",
    "    \n",
    "    metelem_list = [\"Ac\",\n",
    "\"Al\",\n",
    "\"Am\",\n",
    "\"Sb\",\n",
    "#\"Ar\",\n",
    "\"As\",\n",
    "\"At\",\n",
    "\"Ba\",\n",
    "\"Bk\",\n",
    "\"Be\",\n",
    "\"Bi\",\n",
    "\"Bh\",\n",
    "\"B\",\n",
    "#\"Br\",\n",
    "\"Cd\",\n",
    "\"Ca\",\n",
    "\"Cf\",\n",
    "\"C\",\n",
    "\"Ce\",\n",
    "\"Cs\",\n",
    "#\"Cl\",\n",
    "\"Cr\",\n",
    "\"Co\",\n",
    "\"Cn\",\n",
    "\"Cu\",\n",
    "\"Cm\",\n",
    "\"Ds\",\n",
    "\"Db\",\n",
    "\"Dy\",\n",
    "\"Es\",\n",
    "\"Er\",\n",
    "\"Eu\",\n",
    "\"Fm\",\n",
    "\"Fl\",\n",
    "#\"F\",\n",
    "\"Fr\",\n",
    "\"Gd\",\n",
    "\"Ga\",\n",
    "\"Ge\",\n",
    "\"Au\",\n",
    "\"Hf\",\n",
    "\"Hs\",\n",
    "#\"He\",\n",
    "\"Ho\",\n",
    "#\"H\",\n",
    "\"In\",\n",
    "#\"I\",\n",
    "\"Ir\",\n",
    "\"Fe\",\n",
    "#\"Kr\",\n",
    "\"La\",\n",
    "\"Lr\",\n",
    "\"Pb\",\n",
    "\"Li\",\n",
    "\"Lv\",\n",
    "\"Lu\",\n",
    "\"Mg\",\n",
    "\"Mn\",\n",
    "\"Mt\",\n",
    "\"Md\",\n",
    "\"Hg\",\n",
    "\"Mo\",\n",
    "\"Mc\",\n",
    "\"Nd\",\n",
    "#\"Ne\",\n",
    "\"Np\",\n",
    "\"Ni\",\n",
    "\"Nh\",\n",
    "\"Nb\",\n",
    "\"N\",\n",
    "\"No\",\n",
    "#\"Og\",\n",
    "\"Os\",\n",
    "#\"O\",\n",
    "\"Pd\",\n",
    "#\"P\",\n",
    "\"Pt\",\n",
    "\"Pu\",\n",
    "\"Po\",\n",
    "\"K\",\n",
    "\"Pr\",\n",
    "\"Pm\",\n",
    "\"Pa\",\n",
    "\"Ra\",\n",
    "#\"Rn\",\n",
    "\"Re\",\n",
    "\"Rh\",\n",
    "\"Rg\",\n",
    "\"Rb\",\n",
    "\"Ru\",\n",
    "\"Rf\",\n",
    "\"Sm\",\n",
    "\"Sc\",\n",
    "\"Sg\",\n",
    "#\"Se\",\n",
    "\"Si\",\n",
    "\"Ag\",\n",
    "\"Na\",\n",
    "\"Sr\",\n",
    "#\"S\",\n",
    "\"Ta\",\n",
    "\"Tc\",\n",
    "\"Te\",\n",
    "\"Ts\",\n",
    "\"Tb\",\n",
    "\"Tl\",\n",
    "\"Th\",\n",
    "\"Tm\",\n",
    "\"Sn\",\n",
    "\"Ti\",\n",
    "\"W\",\n",
    "\"U\",\n",
    "\"V\",\n",
    "#\"Xe\",\n",
    "\"Yb\",\n",
    "\"Y\",\n",
    "\"Zn\",\n",
    "\"Zr\"]\n",
    "\n",
    "    metelem_list.remove(chosen_element)\n",
    "    frac = []\n",
    "    for comp in df2.index:\n",
    "        frac.append((dict(mg.Composition(comp))))\n",
    "    b_frac = []\n",
    "    for comp in frac:\n",
    "        b_frac.append(comp.get(mg.Element(chosen_element)))\n",
    "        \n",
    "    other_frac = []\n",
    "    for comp in df2.index:\n",
    "        value = 0\n",
    "        for element in mg.Composition(comp).elements:\n",
    "            if str(element) in metelem_list:\n",
    "                value = value + (mg.Composition(comp).get(mg.Element(element)))\n",
    "        other_frac.append(value)\n",
    "        \n",
    "    df2 = pd.DataFrame({chosen_element:b_frac,'Metal':other_frac})\n",
    "    df2['Metal:{0}'.format(chosen_element)] = df2['Metal']/df2[chosen_element]\n",
    "    return df2"
   ]
  },
  {
   "cell_type": "code",
   "execution_count": 36,
   "metadata": {},
   "outputs": [
    {
     "name": "stdout",
     "output_type": "stream",
     "text": [
      "Source dataframe (name of excel file generated above): PCD_pred_Bionly.xlsx\n",
      "Input element: Bi\n"
     ]
    }
   ],
   "source": [
    "df = ratio_calc()"
   ]
  },
  {
   "cell_type": "code",
   "execution_count": null,
   "metadata": {},
   "outputs": [],
   "source": [
    "df.to_excel('MetaltoBoronRatio.xlsx')"
   ]
  }
 ],
 "metadata": {
  "kernelspec": {
   "display_name": "Python 3",
   "language": "python",
   "name": "python3"
  },
  "language_info": {
   "codemirror_mode": {
    "name": "ipython",
    "version": 3
   },
   "file_extension": ".py",
   "mimetype": "text/x-python",
   "name": "python",
   "nbconvert_exporter": "python",
   "pygments_lexer": "ipython3",
   "version": "3.7.6"
  }
 },
 "nbformat": 4,
 "nbformat_minor": 4
}
